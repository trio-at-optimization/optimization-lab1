{
 "cells": [
  {
   "cell_type": "code",
   "execution_count": 4,
   "metadata": {},
   "outputs": [
    {
     "name": "stdout",
     "output_type": "stream",
     "text": [
      "123\n",
      "123\n"
     ]
    }
   ],
   "source": [
    "import random, sys\n",
    "import numpy as np\n",
    "\n",
    "def f(n, k):\n",
    "    rng = np.random.default_rng()\n",
    "    MIN = random.randint(0, sys.maxsize // (2 ** 24) + 1)\n",
    "    MAX = MIN * k\n",
    "    q = np.concatenate([[MIN, MAX], rng.integers(low = (MIN + 1), high = (MAX - 1), size = (n - 2))])\n",
    "\n",
    "    return q\n",
    "\n",
    "def nabla(x):\n",
    "    return np.multiply(x, 2)\n",
    "\n",
    "k = 10000\n",
    "eps = 10\n",
    "alpha = 10000\n",
    "\n",
    "def gradient():\n",
    "    for i in range(2, 1001):\n",
    "        for j in range(6, 1001):\n",
    "            fun = f(i, j)\n",
    "            xxx = [sys.maxsize // (2 ** 16)] * i\n",
    "            x = np.array([xxx])\n",
    "            for h in range(k):\n",
    "                t0 = x[h - 1]\n",
    "                t = t0 - alpha * (nabla(fun) * t0)\n",
    "                x = np.insert(x, len(x), t, 0)\n",
    "            print(123)\n",
    "\n",
    "\n",
    "gradient()\n"
   ]
  }
 ],
 "metadata": {
  "kernelspec": {
   "display_name": "venv",
   "language": "python",
   "name": "python3"
  },
  "language_info": {
   "codemirror_mode": {
    "name": "ipython",
    "version": 3
   },
   "file_extension": ".py",
   "mimetype": "text/x-python",
   "name": "python",
   "nbconvert_exporter": "python",
   "pygments_lexer": "ipython3",
   "version": "3.11.1"
  },
  "orig_nbformat": 4,
  "vscode": {
   "interpreter": {
    "hash": "abb2b798b6161be149f3764fd234fd019f06427b8cbb6851a88ed49ce53c61b6"
   }
  }
 },
 "nbformat": 4,
 "nbformat_minor": 2
}
