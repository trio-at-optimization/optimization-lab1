{
 "cells": [
  {
   "attachments": {},
   "cell_type": "markdown",
   "metadata": {},
   "source": [
    "$$\\texttt{Генерация квадратичной функции с}~n~\\texttt{переменными и числом обусловленности}~k$$"
   ]
  },
  {
   "cell_type": "code",
   "execution_count": 5,
   "metadata": {},
   "outputs": [
    {
     "name": "stdout",
     "output_type": "stream",
     "text": [
      "838097237010538017 * x^2_0 + 1670709693172454931 * x^2_1 + 2312688377377267922 * x^2_2 + 1926486841970412712 * x^2_3 + 3160822616598918764 * x^2_4 + 2425776686520320558 * x^2_5 + 1891539484246113577 * x^2_6 + 1358207653934884720 * x^2_7 + 2168701256124537557 * x^2_8 + 4190486185052690089 * x^2_9\n"
     ]
    }
   ],
   "source": [
    "from generator import generator\n",
    "\n",
    "n, k = 10, 5\n",
    "\n",
    "str = \"\"\n",
    "array = generator.gen(n, k)\n",
    "for i in range(len(array)):\n",
    "    str += f\"{array[i]} * x^2_{i} + \"\n",
    "print(str[:-3])\n"
   ]
  }
 ],
 "metadata": {
  "kernelspec": {
   "display_name": "venv",
   "language": "python",
   "name": "python3"
  },
  "language_info": {
   "codemirror_mode": {
    "name": "ipython",
    "version": 3
   },
   "file_extension": ".py",
   "mimetype": "text/x-python",
   "name": "python",
   "nbconvert_exporter": "python",
   "pygments_lexer": "ipython3",
   "version": "3.11.1"
  },
  "orig_nbformat": 4,
  "vscode": {
   "interpreter": {
    "hash": "abb2b798b6161be149f3764fd234fd019f06427b8cbb6851a88ed49ce53c61b6"
   }
  }
 },
 "nbformat": 4,
 "nbformat_minor": 2
}
