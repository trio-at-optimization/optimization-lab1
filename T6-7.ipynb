{
 "cells": [
  {
   "attachments": {},
   "cell_type": "markdown",
   "metadata": {},
   "source": [
    "# Задания 6-7\n",
    "\n",
    "Исследуйте зависимость числа итераций $T(n, k)$,\n",
    "необходимых градиентному спуску для сходимости в зависимости от размерности пространства $2 \\leqslant n \\leqslant 10^{3}$\n",
    "и числа обусловленности оптимизируемой функции $1 \\leqslant k \\leqslant 10^{3}$."
   ]
  },
  {
   "cell_type": "code",
   "execution_count": null,
   "metadata": {},
   "outputs": [],
   "source": []
  }
 ],
 "metadata": {
  "kernelspec": {
   "display_name": "Python 3",
   "language": "python",
   "name": "python3"
  },
  "language_info": {
   "name": "python",
   "version": "3.11.1"
  },
  "orig_nbformat": 4,
  "vscode": {
   "interpreter": {
    "hash": "0c106e3956619c8654ce5e0562294058212cdd15b4527d78baaf335d52767e29"
   }
  }
 },
 "nbformat": 4,
 "nbformat_minor": 2
}
