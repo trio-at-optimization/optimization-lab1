{
 "cells": [
  {
   "cell_type": "code",
   "execution_count": 2,
   "metadata": {},
   "outputs": [
    {
     "name": "stdout",
     "output_type": "stream",
     "text": [
      "2211278556729514417 * x^2_0 + 7519787667774916804 * x^2_1 + 2546087259614835976 * x^2_2 + 6289828411030734359 * x^2_3 + 8845114226918057668 * x^2_4\n"
     ]
    }
   ],
   "source": [
    "from generator import generator\n",
    "\n",
    "n, k = 5, 4\n",
    "\n",
    "str = \"\"\n",
    "array = generator.gen(n, k)\n",
    "for i in range(len(array)):\n",
    "    str += f\"{array[i]} * x^2_{i} + \"\n",
    "print(str[:-3])\n"
   ]
  }
 ],
 "metadata": {
  "kernelspec": {
   "display_name": "venv",
   "language": "python",
   "name": "python3"
  },
  "language_info": {
   "codemirror_mode": {
    "name": "ipython",
    "version": 3
   },
   "file_extension": ".py",
   "mimetype": "text/x-python",
   "name": "python",
   "nbconvert_exporter": "python",
   "pygments_lexer": "ipython3",
   "version": "3.11.1"
  },
  "orig_nbformat": 4,
  "vscode": {
   "interpreter": {
    "hash": "abb2b798b6161be149f3764fd234fd019f06427b8cbb6851a88ed49ce53c61b6"
   }
  }
 },
 "nbformat": 4,
 "nbformat_minor": 2
}
