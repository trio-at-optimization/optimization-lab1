{
 "cells": [
  {
   "cell_type": "code",
   "execution_count": null,
   "metadata": {},
   "outputs": [],
   "source": [
    "import numpy as np\n",
    "import random\n",
    "import sys, math\n",
    "\n",
    "#  Generating function\n",
    "def generate(n, k):\n",
    "    if (k == 0):\n",
    "        return np.array([0] * n)\n",
    "    rng = np.random.default_rng()\n",
    "    MIN = random.random() * random.randint(0, sys.maxsize // (2 ** 48) + 1)\n",
    "    MAX = MIN * k\n",
    "    if ((MIN + 1) >= (MAX - 1)):\n",
    "        a = 123\n",
    "    if (((MIN + 1) == (MAX - 1)) or (MIN == MAX)):\n",
    "        q = np.concatenate([[MIN, MAX], rng.integers(low = MIN, high = MAX + MAX, size = (n - 2))])\n",
    "    else:\n",
    "        q = np.concatenate([[MIN, MAX], rng.integers(low = (MIN + 1), high = (MAX - 1), size = (n - 2))])\n",
    "\n",
    "    return q\n",
    "\n",
    "#  Nabla function for generated\n",
    "def nabla(x):\n",
    "    return np.multiply(x, 2)\n",
    "\n",
    "#  Returns start point of n\n",
    "def starter(n):\n",
    "    return np.array([sys.maxsize] * n)\n",
    "\n",
    "#  Add array `a` to array `b`\n",
    "def add(a, b):\n",
    "    return np.insert(b, len(b), a, 0)\n",
    "\n",
    "#  Gradient descent\n",
    "def grad(x, f, st, ep):\n",
    "    count = 0\n",
    "    g = nabla(f)\n",
    "    while True:\n",
    "        copyof = np.copy(x)\n",
    "        x = x - np.multiply((g * x), st)\n",
    "        flag = True\n",
    "        t = np.abs(copyof - x)\n",
    "        for e in t:\n",
    "            if e >= ep:\n",
    "                flag = False\n",
    "                break\n",
    "        if flag:\n",
    "            break\n",
    "        else:\n",
    "            count += 1\n",
    "    return count\n",
    "\n",
    "#  Start constants\n",
    "## for step length\n",
    "alpha = 0.01\n",
    "\n",
    "## for criteria to stop\n",
    "eps = 0.00001\n",
    "\n",
    "dimension = random.sample(range(1, 1000), 10)\n",
    "conditionality = random.sample(range(1, 1000), 10)\n",
    "\n",
    "#  Main process\n",
    "with open(\"filename.txt\", \"w\") as f:\n",
    "    sys.stdout = f\n",
    "    for n in range(2, 1001):\n",
    "        for k in range(1, 1001):\n",
    "            fun = generate(n, k)\n",
    "            res = grad(starter(n), fun, alpha, eps)\n",
    "            print(res)\n",
    "\n"
   ]
  }
 ],
 "metadata": {
  "kernelspec": {
   "display_name": "Python 3",
   "language": "python",
   "name": "python3"
  },
  "language_info": {
   "codemirror_mode": {
    "name": "ipython",
    "version": 3
   },
   "file_extension": ".py",
   "mimetype": "text/x-python",
   "name": "python",
   "nbconvert_exporter": "python",
   "pygments_lexer": "ipython3",
   "version": "3.11.1"
  },
  "orig_nbformat": 4,
  "vscode": {
   "interpreter": {
    "hash": "0c106e3956619c8654ce5e0562294058212cdd15b4527d78baaf335d52767e29"
   }
  }
 },
 "nbformat": 4,
 "nbformat_minor": 2
}
