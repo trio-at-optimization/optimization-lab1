{
 "cells": [
  {
   "attachments": {},
   "cell_type": "markdown",
   "metadata": {},
   "source": [
    "$$\\texttt{Генерация квадратичной функции с}~n~\\texttt{переменными и числом обусловленности}~k$$"
   ]
  },
  {
   "cell_type": "code",
   "execution_count": 10,
   "metadata": {},
   "outputs": [
    {
     "name": "stdout",
     "output_type": "stream",
     "text": [
      "55881652088902977 \\cdot x^2_0 + 279408260444514885 \\cdot x^2_1 + 168040993445098276 \\cdot x^2_2 + 98341599851142922 \\cdot x^2_3 + 126881448626083312 \\cdot x^2_4 + 112063718763017541 \\cdot x^2_5 + 167683450954662177 \\cdot x^2_6 + 104734621927684905 \\cdot x^2_7 + 196100745993640030 \\cdot x^2_8 + 199634427735860479 \\cdot x^2_9\n"
     ]
    }
   ],
   "source": [
    "import random, sys\n",
    "\n",
    "def randomNumber(l, r):\n",
    "    randomizer = random.Random(int(random.uniform(0, sys.maxsize)))\n",
    "    return randomizer.randint(l, r)\n",
    "\n",
    "def gen(n, k):\n",
    "    MIN = randomNumber(0, sys.maxsize // 16)\n",
    "    MAX = MIN * k\n",
    "    q = [0] * n\n",
    "    q[0] = MIN\n",
    "    q[1] = MAX\n",
    "\n",
    "    for i in range(2, n):\n",
    "        q[i] = randomNumber(MIN + 1, MAX - 1)\n",
    "\n",
    "    return q\n",
    "\n",
    "n, k = 10, 5\n",
    "\n",
    "str = \"\"\n",
    "array = gen(n, k)\n",
    "for i in range(len(array)):\n",
    "    str += f\"{array[i]} \\\\cdot x^2_{i} + \"\n",
    "print(str[:-3])\n"
   ]
  }
 ],
 "metadata": {
  "kernelspec": {
   "display_name": "venv",
   "language": "python",
   "name": "python3"
  },
  "language_info": {
   "codemirror_mode": {
    "name": "ipython",
    "version": 3
   },
   "file_extension": ".py",
   "mimetype": "text/x-python",
   "name": "python",
   "nbconvert_exporter": "python",
   "pygments_lexer": "ipython3",
   "version": "3.11.1"
  },
  "orig_nbformat": 4,
  "vscode": {
   "interpreter": {
    "hash": "abb2b798b6161be149f3764fd234fd019f06427b8cbb6851a88ed49ce53c61b6"
   }
  }
 },
 "nbformat": 4,
 "nbformat_minor": 2
}
