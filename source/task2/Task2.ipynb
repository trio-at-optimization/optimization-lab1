{
 "cells": [
  {
   "attachments": {},
   "cell_type": "markdown",
   "metadata": {},
   "source": [
    "$$\\texttt{Реализуйте метод одномерного поиска (метод дихотомии)}$$"
   ]
  },
  {
   "cell_type": "code",
   "execution_count": 5,
   "metadata": {},
   "outputs": [
    {
     "name": "stdout",
     "output_type": "stream",
     "text": [
      "1.9990234375\n"
     ]
    }
   ],
   "source": [
    "import math\n",
    "\n",
    "def function(x):\n",
    "    return x ** 2 - math.pow(math.e, x)\n",
    "\n",
    "def find(a, b, isMin, eps):\n",
    "    x = a\n",
    "    while True:\n",
    "        x = (a + b) / 2\n",
    "        f1 = function(x - eps)\n",
    "        f2 = function(x + eps)\n",
    "        if (isMin):\n",
    "            if (f1 < f2):\n",
    "                b = x\n",
    "            else:\n",
    "                a = x\n",
    "        else:\n",
    "            if (f1 < f2):\n",
    "                a = x\n",
    "            else:\n",
    "                b = x\n",
    "        if (b - a <= eps):\n",
    "            break\n",
    "\n",
    "    return x\n",
    "\n",
    "print(find(0, 2, True, 0.001))\n"
   ]
  },
  {
   "attachments": {},
   "cell_type": "markdown",
   "metadata": {},
   "source": [
    "$$\\texttt{Градиентный спуск на основе метода одномерного поиска (метод дихотомии)}$$"
   ]
  },
  {
   "cell_type": "code",
   "execution_count": 38,
   "metadata": {},
   "outputs": [
    {
     "name": "stdout",
     "output_type": "stream",
     "text": [
      "[3.346077088211658, 3.8608721986979795]\n"
     ]
    }
   ],
   "source": [
    "import math\n",
    "\n",
    "# x_0       = init\n",
    "# x_{k + 1} = x_k - alpha * nabla(f(x_k))\n",
    "\n",
    "# let  f(x, y)        = (x^2 + (x - y)^2)\n",
    "# then nabla(f(x, y)) = [2 * x + 2 * (x - y), (-2) * (x - y)]\n",
    "# let alpha           = 0.001\n",
    "# let x_0, y_0        = [5, 5]\n",
    "\n",
    "def function(x, y):\n",
    "    return x ** 2 + (x - y) ** 2\n",
    "\n",
    "def nabla(x, y):\n",
    "    return [(2 * x + 2 * (x - y)), (-2 * (x - y))]\n",
    "\n",
    "points = [[5.0, 5.0]]\n",
    "alpha = 0.001\n",
    "k = 1000\n",
    "\n",
    "for i in range(1, k + 1):\n",
    "    a = nabla(points[i - 1][0], points[i - 1][1])[0]\n",
    "    b = nabla(points[i - 1][0], points[i - 1][1])[1]\n",
    "    c = points[i - 1][0] - a * alpha\n",
    "    d = points[i - 1][1] - b * alpha\n",
    "    points.append([c, d])\n",
    "\n",
    "def find(a, b, isMin, eps):\n",
    "    x = a\n",
    "    while True:\n",
    "        x[0] = (a[0] + b[0]) / 2\n",
    "        x[1] = (a[1] + b[1]) / 2\n",
    "        f1 = function(x[0] - eps, x[1] - eps)\n",
    "        f2 = function(x[0] + eps, x[1] + eps)\n",
    "        if (isMin):\n",
    "            if (f1 < f2):\n",
    "                b = x\n",
    "            else:\n",
    "                a = x\n",
    "        else:\n",
    "            if (f1 < f2):\n",
    "                a = x\n",
    "            else:\n",
    "                b = x\n",
    "        if (abs(b[0] - a[0]) <= eps or abs(b[1] - a[1]) <= eps):\n",
    "            break\n",
    "\n",
    "    return x\n",
    "\n",
    "print(find(points[-1], [5.0, 5.0], True, alpha))\n"
   ]
  }
 ],
 "metadata": {
  "kernelspec": {
   "display_name": "Python 3",
   "language": "python",
   "name": "python3"
  },
  "language_info": {
   "codemirror_mode": {
    "name": "ipython",
    "version": 3
   },
   "file_extension": ".py",
   "mimetype": "text/x-python",
   "name": "python",
   "nbconvert_exporter": "python",
   "pygments_lexer": "ipython3",
   "version": "3.11.1"
  },
  "orig_nbformat": 4,
  "vscode": {
   "interpreter": {
    "hash": "0c106e3956619c8654ce5e0562294058212cdd15b4527d78baaf335d52767e29"
   }
  }
 },
 "nbformat": 4,
 "nbformat_minor": 2
}
